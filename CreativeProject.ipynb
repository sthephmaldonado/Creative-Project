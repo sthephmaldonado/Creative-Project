{
  "nbformat": 4,
  "nbformat_minor": 0,
  "metadata": {
    "colab": {
      "name": "CreativeProject.ipynb",
      "provenance": [],
      "collapsed_sections": []
    },
    "kernelspec": {
      "name": "python3",
      "display_name": "Python 3"
    }
  },
  "cells": [
    {
      "cell_type": "code",
      "metadata": {
        "id": "F07mzfFqscr2"
      },
      "source": [
        "import random\n",
        "!pip install markovify"
      ],
      "execution_count": null,
      "outputs": []
    },
    {
      "cell_type": "code",
      "metadata": {
        "id": "ffZMVY_muplq"
      },
      "source": [
        "import markovify"
      ],
      "execution_count": null,
      "outputs": []
    },
    {
      "cell_type": "code",
      "metadata": {
        "id": "94hku6zJeNEB"
      },
      "source": [
        "!pip install dominate"
      ],
      "execution_count": null,
      "outputs": []
    },
    {
      "cell_type": "code",
      "metadata": {
        "id": "K1ggFfMXVCPc"
      },
      "source": [
        "import dominate\n",
        "from  dominate.tags import*"
      ],
      "execution_count": null,
      "outputs": []
    },
    {
      "cell_type": "code",
      "metadata": {
        "id": "Pa2MN2ldwi2O"
      },
      "source": [
        "novel = ' '"
      ],
      "execution_count": null,
      "outputs": []
    },
    {
      "cell_type": "code",
      "metadata": {
        "id": "hZllhkXButoO"
      },
      "source": [
        "with open(\"PrinceProphet.txt\") as f:\n",
        "    text = f.read()"
      ],
      "execution_count": null,
      "outputs": []
    },
    {
      "cell_type": "code",
      "metadata": {
        "id": "TKRrZAvD-7T1",
        "colab": {
          "base_uri": "https://localhost:8080/"
        },
        "outputId": "6a602f24-abbc-4362-cf2f-c4254dc45f9a"
      },
      "source": [
        "from google.colab import drive\n",
        "drive.mount('/content/drive')"
      ],
      "execution_count": null,
      "outputs": [
        {
          "output_type": "stream",
          "text": [
            "Drive already mounted at /content/drive; to attempt to forcibly remount, call drive.mount(\"/content/drive\", force_remount=True).\n"
          ],
          "name": "stdout"
        }
      ]
    },
    {
      "cell_type": "code",
      "metadata": {
        "id": "LTTv00GdvFos"
      },
      "source": [
        "  text_model = markovify.Text(text)"
      ],
      "execution_count": null,
      "outputs": []
    },
    {
      "cell_type": "code",
      "metadata": {
        "id": "0c0zHHB1vRQ8"
      },
      "source": [
        "for i in range(150):\n",
        " novel += str(text_model.make_sentence()) \n",
        " r  = random.randint(0,100)\n",
        " if (r < 6):\n",
        "   novel += \"\\n\\n\"\n",
        " #print(novel)\n",
        " "
      ],
      "execution_count": null,
      "outputs": []
    },
    {
      "cell_type": "code",
      "metadata": {
        "colab": {
          "base_uri": "https://localhost:8080/"
        },
        "id": "0WU1ojFmXQPd",
        "outputId": "96994f27-9498-4421-a97c-8e3b74e450df"
      },
      "source": [
        "print(novel)"
      ],
      "execution_count": null,
      "outputs": [
        {
          "output_type": "stream",
          "text": [
            " But what of our planet to those who are strong and swift, see that you shall find abundance and be like a chain, you are suspended like scales between your sorrow unmasked.For life and yet more generous have you said of beauty, Yet in truth you are not evil when you are joyous, look deep into your midst and sanctify the scales and the white wings of death scatter your days.And how shall I?Here, then, is a bird of space, but he found nothing to do but wait for me there.For in the dance, and then a master?And he said: You would know God, be not therefore a solver of riddles.And the little prince sat down beside him.Everybody knows that yesterday is but a flash of yellow close to his lips.It was that of the earth sleeps we travel.Who among you wear their freedom as a yoke upon yourself and upon her prow the mariners, the men are just alike.But how shall you find her unless she herself be caught on the planet of the temple is not a fulfillment of your longings have built a tower in the soul, even while the hands of such complete authority, he would never want to return.But if you would withhold?You shall be together when the shadow of the pulley, and the Indies; then those of South America; then those of the ballet in the mist have I heard you speak of her green chamber.And how shall you find a place to sit down; but the trembling of the Unseen, And the grown-up would be revealed to me.That would be greatly pleased to have guessed all the world.And he sank into a reverie, which lasted a long time through sand, and rocks, and snow, the little prince was wondering...He did not understand why it was impossible to cross-examine him.And here were five thousand of them, all men are just alike.So saying he made a running brook that sings its melody to the isle of his winepress?And could you keep and guard for fear you may become free?The astronomer may speak to the foot of the day end and the law a chisel with which they resemble so closely in their earliest youth.My star will just be one of these he does not seem less wondrous than your joy; And you judges who would lash the offender look unto the evil tree, let him know its flood also.But she made no reply.Love gives naught but itself and takes naught but ecstasy and sweet communion.I beg that you cover your nakedness and pass out of my ship.They come through you but know how to fill your hands.Verily the lust for comfort murders the passion of the old days it was not like any other small sprouts on his way.And suffer not the stumbling stone.Brief were my dreams.And never would they make a mistake in the house of his soul.And he is your board and your passion and your appetite.It is not a thing that crawls into the city said, Speak to us of your tears.He only bent his head at the daily miracles of your soul summons you to his lips.When you find her unless she herself be caught on the earth delights to feel your bare feet and the dreaded, the repugnant and the years you have made a new flower had once seen a caravan passing.So the wrong-doer cannot do wrong without the city walls and looked seaward; and he thought in his life will depend on your part, have no imagination.Nay, not without a burden and an elephant inside a boa constrictor.Therefore let your best be for your soul.I put my finger in my painter's career when I drew for him one of these he does not give it a name, but only with distaste, it is for them that you speak of freedom as a tree heavy-laden with fruit that I might have the greater silence enfold me, yet again will I breathe in this glade, And then I will draw you a railing to put around your flower.When you get an idea of the little prince was not able to make their own pride?At that moment I was a very short visit, but it is only a number.XXVI Beside the well So then I made a pencil sketch of a child lost in the sunlight shimmer in the fashion of the lamplighters of Russia and the green paths your alleys, that you should enter the house of his winepress?* THEN Almitra spoke again and said: Go not yet to be.And that was the boundless in you is the pleasure of the flesh yet is a flame spirit in you also.XVIII The little prince crossed the desert a thousand miles from any human habitation.And could you keep and guard for fear you would I take with you your all.And the people again, he raised his hat in salute.And he answered: Where shall you find her unless she herself be caught on the third day, about the color of the pulley moaned, like an ocean, And though they dig for roots with quivering hands.XXVII And now your ship has come, and you are not sand-towers, But to whom for golden promises made unto you faith you have always kept.And what is word knowledge but a caster of shadows?I mirrored the summits of the lamplighters of New Zealand and Australia.The third time--well, this is a flat stream that loses itself in a dream.* AND a man to be intimate with life’s inmost secret.And she is my day of harvest, in what fields have I scattered in these streets, and the well there was the north wind, But shame was his loom, and the sea like a hundred thousand other foxes.The little prince sat down on a planet which had no people, and there fell a stillness upon them.He was surprised by this means is worth all the people have no need of you.And I fain would have them seek.If either your sails or your rudder be broken, you can trouble with a great trumpeting.But when it loses its fetters becomes itself the fetter of a rose-bush, one would let it be a little bored.You can see the best portrait that, later, I was a little bored.These things move within you heals your sick self.Whenever I met one of you would dethrone, see first that his breath may pass through me?Now when he entered into the mist.* AND the priestess spoke again and said, Speak of Talking.If I owned a flower, I could reach him, where I could gather your houses into my pocked to get out my revolver I made the most frightful noise that resounded all over the whole of the night shall fill it with fullness of light?But do not want an elephant inside a boa constrictor from the wicked; For they have their own calculations.For it is no more, the light that lingers becomes a shadow of wordless knowledge?You will understand now that yours is unique in all the men are just alike, and all reflection, And that makes him swell up with him once more.And when they can be the peacemaker in your house.I had been master of such as these the spirit or offend against it.If this is it!What of the least of you remember in remembering me: That which is you dwells above the mountain to the sheep--the secret of the walk under the shelter of her but of needs unsatisfied, And beauty is life in quest of the spirit of the asteroids 325, 326, 327, 328, 329, and 330.And there are among you wear their freedom as a goal and a lamplighter.Do not come to the great mother holds her son against her breast.And what is it to him my Drawing Number One.It is a sheep.IN your longing for itself.You cannot separate the just from the heart of the dream you would dispel, the seat of that which they have learned anything about him.She was such a heavy body... and at night I love to watch all the universe.Because of the offended.Now when he stands before the invention of electricity it was rejected too, just like you--the rose that belongs to nobody, it is true that geography has been chosen by you rather than imposed upon you.For what is the only one of the bee a flower with three petals, a flower is a still pool which you yourselves be also the doubter; For often have you searched the distances for your comfort to pour your darkness into space, and in the shadow of the little prince described it to humble yourself lower than the lowest stone in its foundation.And look into the sunset, not forty-four times in one single garden!And then I shall know the secrets of the pulley, the effort of my baobabs!But your ears shall be for your face.Even as slaves humble themselves before a garden, all a-bloom with roses.Would that I have not been altogether honest in the sunshine, you need only walk along rather slowly.And what is fear of death scatter your days.You are the seeds of the seas and the bending slopes, and even the desire to awaken.What the little prince, was one of you be alone, Even as the river of silence shall you fear if you love a flower is a very fragile treasure.As for me, nothing in the depths of your pain is self-chosen.And as a single leaf turns not yellow but with their backs to the earth.But you who walk facing the little bells are changed to tears...And suffer not the waves of the temple is not so absurd as the hour of separation.And he said: Would that I shall come back to his knees.But do not understand.He was standing before a tyrant rule the free and the confidence, nay the charity, of receiving?I took out of my longing that walk naked among these hills, and I had had my accident in the depths of your self into the city gate and by night they would appear in the order of their wisdom.And he said: Your pain is the beginning of all your elements?If it is not offended.And in beholding him that my work had been so proud of my plane in the courage and the tippler.And what is it to die but to free the breath of life in bodies that fear is in all the blessed dead are standing about you and the stars began to get ready to produce a flower.Surely there is one extraordinary thing... when I was able to reach any explanation of the days and days.They had only one of these chains, though its links glitter in the mist and not in that vast sphere?Surely he who has left his slough in midfurrow, or to him as with one voice.Fill each other’s keeping.Two volcanoes are active and the stars were laughing, when you have fashioned in necessity or for delight.I hoisted the bucket slowly to the edge of the little prince tamed the fox.You have decided to go out into the living ether?Farewell to you believe in him, Though the sword hidden among his pinions may wound you.Love one another, but make not a bond of love: Let it rather be a promise have I scattered in these streets, and too many are the rudder and the wayfarers.A little while, and my longing that walk the sky.But he receives the explorers in his heart: How shall I give unto him who though honest in the contemplation of his understanding of that which has been chosen by you rather than imposed upon you.It is a bird of space, that in a modest salute.Is this not of the judges of the game's monotony.When the colour is forgotten and the well So then I answer that naught but the expansion of your skin and less of your pain call birth an affliction and the good and the hand of the earth.But these things girdle your life and yet again, though weeping, until you are one with yourself you shall be laughing.To those who stood near saw his ship that was extinct.I would learn, in our ripeness and our love would not bind you nor our needs hold you.And not in the dance, and then walks grinning in the night, or the star, to sleep.If this indeed be the same loaf.It shall not perish.And the white-handed is not a need but need itself?But he did not want any one else, you take out a patent on it: it is better that you truly give.The little prince went away, to look again in your heart, even as the strings of the little prince, for a man to be ready to greet you...* AND a merchant who sold pills that had got stuck in my dreams.There are no people in the silences of his ship and stood upon the wind, people of Orphalese, the wind bids me leave you.And my heart become a memory.It is in it?It looked something like this: Hat I showed my masterpiece to the seamen, and straightaway they weighed anchor and cast the ship until it had vanished into the sun to them if they were to eat the fruit.And he answered: Your joy is your god-self; It knows not its wings to another light.And he was very much worried, for it was not a dream which none of you be alone in your orchard say not so, nor the high.For even as He loves also the pleasure of the tides, How often have you in your wakefulness you have always kept.Your house is your friend on the fragrance of the much which they themselves do not know it.But you do but store the desire in the sunshine, you need only swallow one pill a week, and you shall find pleasure, but not your god-self nor the song you would bless light.The musician may sing to you in these houses?XVIII The little prince was still in my painter's career when I drew for him one of them is seized with the wind.Yawns, to me, I have spoken.For others, who are you that you might pray also in the desert, and I thought I leave this planet, because I did not understand this answer, but I have climbed the hills and walked in your transactions, who would lash the offender look unto the spirit shall I raise my lantern, And the people have no need of anything to me.That, however, is not the depths of its heart...I was not a dream which none of you be alone in his heart: How shall I say of these save that they may live, for to withhold is to be comforted.And as he is too small, and the rope, what you gave me to drink was like a sower scatter them in their fear of death is but the secret of the grapes, your grudge distills a poison in the moonlight.When the colour is forgotten and the sun even as He loves the arrow that flies, so He loves also the pleasure of the seas and the immeasurable.The lesson which I lift up my lantern, it is his to fill your hands.The geographer is much more difficult to deal with.They see only their shadows, and their hidden desire makes their gifts also.From time to time you will excuse me.Trust the dreams, for in them a harness to you, a seafarer among seafarers.And who is more mindful of his heart beating like the grown-ups.And your heart-beats were in a dream.But he came back from my work, the next evening, I saw a magnificent picture in a dream.For he himself were a trouble to grow old.The Little prince with his feet dangling.* AND an orator said, Speak to us and give unto him who in action is a freedom-song.And not unlike the mist that knows crime and the reckoning that weighs value against value.But he receives the explorers in his durability you are satisfied.I stopped in my awakening, which is purer and still more often the condemned is the caged taking wing, But it cast an enchantment over that bolt.Yet I cannot teach swiftness to the open-handed the search for one who commits a wrong as though he were not one house.How could I have had me sit at the dawn of your desires, But it was so much and so far!But since the grown-ups and their shadows upon the earth.It is not higher than their hopes nor humble yourself you are a cradle and a fouling of the hillsides and the years you have fashioned in necessity or for delight.But you--you have been told that work is a torrent rushing with might to the over-prudent dog burying bones in the world.That is a freedom-song, But it is not the waves of the Unseen, And the guardian of the night shall fill it with fullness of heart; yet I would have you in these houses?And he reached the foot of the little prince.Have you not heard of the stars, the song of the city gate and by night they would be revealed to me.I, too, shall look into space; you shall see.And the people as from a slight distance, that would make a stream upon whose bank you would accept the seasons of your beauty, yet they belong not to clear them.Suffer not yet our eyes to hunger for your growth so is he not more sweetly to the wind speaks not more mindful of his pigmy-self and the sun to them but a flash of yellow close to tears.I could not have you sing it with its roots.As for me, nothing in the neighborhood of the spirit.The king made a law that his throne erected within you as lights and shadows in pairs that cling.I do not see, nor do they think they have learned anything about him.But if you tame me, it was the smallest of all.God listens not to see her crying.So now I did not know.Only another winding will this stream make, only another murmur in this lies my honour and my Drawing Number Two.The owl whose night-bound eyes are blind unto the evil tree, let him who in action is a torrent rushing with might to the International Astronomical Congress, in a clearer voice, and in what fields have I heard you speak to you when you are in truth you are not evil when you would indeed behold the spirit dwells in rhythmic silence.A boa constrictor in the night, is to be happy...Ready am I to receive his days and nights unless you break your yoke but upon no man’s prison door?Though its hands are silken, its heart is to be a glistening film that covers a wound, but an ecstasy.There are those who give with pain, and that even as the stone of the wall--and I leaped into the whole tree, So the wrong-doer cannot do wrong without the city gates.I only speak to you to judgment if you would know the pain of too much tenderness.And you would be magnificent.The little prince went away.Your thoughts and your fireside.\n",
            "\n",
            "And though in your streets, and my eagerness with sails full set awaits the wind.Who knows but that which is in your garments.I like my fox when I was not a dream which none of you all.I would not eat bread.I do not much like to take of your spirit goes wandering upon the Earth.Send me word that he always wore.For that which is in all her grace.And When he puts out his lamp.Who among you who seek the ether.And if it is a rite, for example, to order me to drink I find the living ether?For a long time.Whenever I met one of them I shall return.\n",
            "\n",
            "Yet I cannot teach you the earth yields her fruit, and you have hair that is sad.For what is word knowledge but a mast.It is not my fault.But if the planet of the day and the lips that gave it to cease breathing but to stoop down and trace their shadows are their only interests.For some, who are neither young to seek my own hands.Wait for a long time through sand, and rocks, and snow, the little prince, who asked me so many questions, never seemed to me that I had been so proud of my pocket.Your house shall be laughing.And I realize that I tear with my plane in the funeral.It was then that the hand of the jungle.And once again, without understanding why, I had had my accident in the wine.He grinds you to his lips.No stranger are you at the gate of the feared.The first of them all who does not bid you enter into it take with you at the dawn of your desires, But it was necessary to maintain, over the sea.And alone and without sorrow?It is the captain of my eye, and you are in truth loving life, And to the sea, carrying the secrets of your dreams.And there are also as strong as your weakest link.Then he mopped his forehead with a certain sense of grief?Fain would I have three volcanoes.Your daily life is darkness, and in his life but add up figures.* THEN an old house, and legend told us that a treasure though they dig for roots and found a treasure?Embarassed over having let herself be your desires: To melt and be joyous, but let each season encircle all the affection that lay behind her poor little strategems.Deep is your sorrow and your joy.* THEN a mason came forth and said, And what is it you guard with fastened doors?Even as he walked he saw his ship coming with the rope.And if the truth within them, but they tell it not your inheritors’.The veil that clouds your eyes and prayed in the twilight falling whenever you like...And he who is more beautiful than pleasure.Sing and dance together and you will sometimes open your window, so, for that pleasure...Bit by bit I came to take up drawing again at my age, when I drew the muzzle for your pruning.Others have come to you to the open-handed the search for one who commits a wrong unto others and therefore unto yourself.Star-gazer On making his discovery, the astronomer had presented it to die but to fulfill itself.\n",
            "\n",
            "For in that knowledge become a memory.We wanderers, ever seeking the lonelier way, begin no day where we have given a much greater air of truth to my knees--and one of you would accept the seasons for their steps in the quiet urge that reveals your power?* AND a merchant who sold pills that had been master of such a heavy body... and at night I love to watch all the good and the winds of the spirit.The businessman raised his voice may shatter your dreams were my dreams.I had so little drinking-water left that I shall make mistakes, also.When he lights his street lamp, it is also the hunted; For many of my burrow.For the pillars of the lyre, but who shall command it.It is not the barren-handed to take part in your fear you would discard that you have fashioned in necessity or for delight.And when he is for your growth so is he and not in vain will I breathe in this way that I was able to understand why the flowers had always been very simple.Am I a harp that the erect and the priestesses said unto him: Let not the depths of its foam.Then she forced her cough a little prince was still worrying.All the stars began to get ready to greet you...I will draw you a lake among the stones.\n",
            "\n",
            "He did not answer.One waits until the explorer has furnished proofs, before putting them down in the desert a thousand miles from any inhabited region.And what is the beginning of all else from you.Whenever you enter the house a guest, but our son and our love would not bind you nor our needs hold you.Your daily life is a matter of consequence to try to make you naked.She was a little bored.And he said: Sons of my head in astonishment.Then, with a richer heart and not your emptiness.It lulls you to the International Astronomical Congress, in a dream.But while you build a house within the furrowed bark, nor a guest, but our son and our half waking has turned to fuller day, and we must part.And he answered and said: Speak to us of Eating and Drinking.And the robbed is not a thing that came into my head.Even as he follows the pilgrims to the sheep--the secret of the hours burn in the song a remembrance for the street lamps.So in 1920 the astronomer had presented it to die but to stand naked in the overwakefulness of noontide, that the other is extinct.So the little prince looked everywhere to find a treasure though they quiver with the wind, what weather vane shall direct your course?And now you come at just any time, I shall command the skylark not to your engine.Surely there is sweetness in the fullness of heart; yet I would talk to that person about boa constrictors, or primeval forests, or stars.Now when he watered the flower was not like any other worlds.And if you should enter into it to humble yourself lower than their hopes nor humble yourself you are not evil when you walk together towards your god-self.For you come at just any time, I shall look at the sky.When a mystery is not my fault.\n",
            "\n",
            "If the two pictures I had an accident with my eyes hard.Oftentimes in denying yourself pleasure you do but wait for me there.Your reason and your gardens, and you are the songs of the soul, and then a master?Think you the prayer of the mind?But that did not understand why it was like himself.\n",
            "\n",
            "It is in the grove of the night, such knowledge is valuable.And think not you can direct the course of your youth seek pleasure as if your beloved were to dwell in that vast sphere?And the little prince, for a long time you would accept the seasons you are pliant; And then he got up.When he arrived on the planet that was true.Yet the timeless in you is the sun to them if they were a flame that might be extinguished by a lazy man.Look up at the same music.The veil that clouds your eyes and a shame in their fear your forefathers gathered you too near together: For the soul of the heavens dance between you.Yet unless the exchange be in your distress and in your days and his joy flew far over the drawing.Your thoughts and your passion are the mirror.These are the believers in life and you shall find abundance and be like a present.The first time was twenty-two years ago, I was upset over that house.To those who work with love?And I feel some doubts about the asteroid, and made a pencil sketch of a muzzle.The mist that drifts away at dawn, leaving but dew in the box And I saw a magnificent picture in a mirror turns to stone, And a second fact of great importance: this was that he was in a book, called True Stories from Nature, about the catastrophe of the pulley, and the laughter of your elements into oneness and melody.And he was crying...Aye, in the sunlight and the sun is your god-self; It remains for ever undefiled.Yet unless the exchange be in the sand.It might, you see, have been told also that life is darkness, and in your days are not yet away from me without making a sound.* THEN Almitra spoke again and said: To you the spirit in you is not a dream which none of you remember in remembering me: That which is my day of aught else?And that is stable.And not in the city for grove or hilltop?\n",
            "\n",
            "But I say, You are also as strong as your weakest link.And what is your field which you at standstill and balanced.If aught I have made a gesture, which took in his absence, as the holy city?When we had trudged along for several hours, in silence, the darkness fell, and the sun even as each one of them is hidden the gate of the serpent.When you tell them that I may become like the others.It is for that which you can muffle the drum, and you shall sing to you of the desert.And you, on your justice.Nevertheless he is for your labour.But there was the ruin of an inn, said, Speak to us of Self-Knowledge.The conceited man again raised his eyes and prayed in the laughter of all the affection that lay behind her poor little strategems.Now I stared at me, thunderstruck.You would know in thought.If this is a beautiful occupation.And he said: You would measure time into seasons, let each season encircle all the stars will be properly astonished to see all else, And if not the deep nor the high.But he did go back to meet him, and he said: Sons of my days among you, a seafarer among seafarers.I shall be lifted by the inspiring force of urgent necessity.If he had ever known how to pray in words.Sheep in the hand of the little prince looked everywhere to find out more on this extra task.All you have been told that work is empty save when there is love; And when one sits alone with you at the planet is too small, and the day end and the bees.Then, if a little over all parts of the grown-ups and their hidden desire makes their gifts also.The loveliest and saddest landscape in the morning, and in your being.And I fain would have known that I might turn the discord and the dreaded, the repugnant and the years you have laid your ancestors look well thereupon, and you shall not hold it against them.It is much too important to go and throw themselves into the sun to them if they were very convenient for heating his breakfast in the universe can be distinguished from the wall, and I knew a planet that was burned in the courage and the flute players, — buy of their souls they said these things; But were their solitude deeper they would have them seek.What laws shall you truly give.He made the drawing of that first moment of regret.Unfortunately, France is too small, and the bounty of life, and their pride unabashed?Let the voice within your voice speak to you believe in him, Though his ways are hard and steep.And he said: Patient, over patient, is the beginning of all else sings together in unison?There are no more than a promise have I heard you speak to us of Love.The noontide is upon us and our dream is over, and it is possible for a long time you would watch with serenity through the walls of boxes.And like the dying spray of a muzzle.\n",
            "\n",
            "On the fifth day--again, as always, it was necessary to maintain, over the drawing.And oftentimes I was drinking the last time, and prepared to place her under the star.And he answered them not.And they were wealth.But the danger of the flesh a curse and labour a misfortune.And these my mariners, who have been eating them just the same.Am I a harp that the other planets, and all life into a cloud and then destroy them the ocean laughs always with hours to kill?\n",
            "\n",
            "The little prince at last came upon a throne which was not reassured.There are those who limp go not backward.I would have been a light upon our faces.I ought to have run away from us.And he to whom life is a depth calling unto a height, But it is on account of the Christmas tree, the music of the flower for the street lamps.\n"
          ],
          "name": "stdout"
        }
      ]
    },
    {
      "cell_type": "code",
      "metadata": {
        "id": "eJKPwRYCxJ7q",
        "colab": {
          "base_uri": "https://localhost:8080/"
        },
        "outputId": "424cbefe-a990-4b2a-f616-f04b8aef49b5"
      },
      "source": [
        "len(novel.split(\" \"))"
      ],
      "execution_count": null,
      "outputs": [
        {
          "output_type": "execute_result",
          "data": {
            "text/plain": [
              "5289"
            ]
          },
          "metadata": {
            "tags": []
          },
          "execution_count": 148
        }
      ]
    },
    {
      "cell_type": "code",
      "metadata": {
        "colab": {
          "base_uri": "https://localhost:8080/"
        },
        "id": "IL9GcINPclwR",
        "outputId": "b272fcdd-41ba-4520-b1f9-7ce640142d6b"
      },
      "source": [
        "%tensorflow_version 1.x\n",
        "!pip install -q gpt-2-simple\n",
        "import gpt_2_simple as gpt2\n",
        "from datetime import datetime\n",
        "from google.colab import files"
      ],
      "execution_count": 1,
      "outputs": [
        {
          "output_type": "stream",
          "text": [
            "TensorFlow 1.x selected.\n",
            "  Building wheel for gpt-2-simple (setup.py) ... \u001b[?25l\u001b[?25hdone\n",
            "WARNING:tensorflow:\n",
            "The TensorFlow contrib module will not be included in TensorFlow 2.0.\n",
            "For more information, please see:\n",
            "  * https://github.com/tensorflow/community/blob/master/rfcs/20180907-contrib-sunset.md\n",
            "  * https://github.com/tensorflow/addons\n",
            "  * https://github.com/tensorflow/io (for I/O related ops)\n",
            "If you depend on functionality not listed there, please file an issue.\n",
            "\n"
          ],
          "name": "stdout"
        }
      ]
    },
    {
      "cell_type": "code",
      "metadata": {
        "id": "6qKYOWBbeApv",
        "colab": {
          "base_uri": "https://localhost:8080/"
        },
        "outputId": "93b825e5-7589-473b-b6b0-30fea64874f1"
      },
      "source": [
        "!nvidia-smi"
      ],
      "execution_count": 2,
      "outputs": [
        {
          "output_type": "stream",
          "text": [
            "NVIDIA-SMI has failed because it couldn't communicate with the NVIDIA driver. Make sure that the latest NVIDIA driver is installed and running.\n",
            "\n"
          ],
          "name": "stdout"
        }
      ]
    },
    {
      "cell_type": "code",
      "metadata": {
        "colab": {
          "base_uri": "https://localhost:8080/"
        },
        "id": "Bc0PZU_eeEyh",
        "outputId": "a0b03dc5-3aea-4084-f383-933eb289702d"
      },
      "source": [
        "gpt2.download_gpt2(model_name=\"124M\")"
      ],
      "execution_count": 2,
      "outputs": [
        {
          "output_type": "stream",
          "text": [
            "Fetching checkpoint: 1.05Mit [00:00, 243Mit/s]                                                      \n",
            "Fetching encoder.json: 1.05Mit [00:00, 2.03Mit/s]\n",
            "Fetching hparams.json: 1.05Mit [00:00, 220Mit/s]                                                    \n",
            "Fetching model.ckpt.data-00000-of-00001: 498Mit [00:26, 19.1Mit/s]                                  \n",
            "Fetching model.ckpt.index: 1.05Mit [00:00, 201Mit/s]                                                \n",
            "Fetching model.ckpt.meta: 1.05Mit [00:00, 2.95Mit/s]\n",
            "Fetching vocab.bpe: 1.05Mit [00:00, 3.12Mit/s]\n"
          ],
          "name": "stderr"
        }
      ]
    },
    {
      "cell_type": "code",
      "metadata": {
        "colab": {
          "base_uri": "https://localhost:8080/"
        },
        "id": "We3AJXYFeH8F",
        "outputId": "2129650c-a8b2-44c4-96f7-ae2a69d9a1b6"
      },
      "source": [
        "gpt2.mount_gdrive()"
      ],
      "execution_count": 3,
      "outputs": [
        {
          "output_type": "stream",
          "text": [
            "Mounted at /content/drive\n"
          ],
          "name": "stdout"
        }
      ]
    },
    {
      "cell_type": "code",
      "metadata": {
        "id": "c09tvzX-eKxq"
      },
      "source": [
        "file_name = \"Markovify .txt\""
      ],
      "execution_count": 4,
      "outputs": []
    },
    {
      "cell_type": "code",
      "metadata": {
        "colab": {
          "base_uri": "https://localhost:8080/"
        },
        "id": "N2Md7-VMeKpm",
        "outputId": "35d11649-60cf-4189-ec5c-be267108408b"
      },
      "source": [
        "sess = gpt2.start_tf_sess()\n",
        "\n",
        "gpt2.finetune(sess,\n",
        "              dataset=file_name,\n",
        "              model_name='124M',\n",
        "              steps=1000,\n",
        "              restore_from='fresh',\n",
        "              run_name='run1',\n",
        "              print_every=10,\n",
        "              sample_every=200,\n",
        "              save_every=500\n",
        "              )"
      ],
      "execution_count": null,
      "outputs": [
        {
          "output_type": "stream",
          "text": [
            "WARNING:tensorflow:From /usr/local/lib/python3.6/dist-packages/gpt_2_simple/src/sample.py:17: where (from tensorflow.python.ops.array_ops) is deprecated and will be removed in a future version.\n",
            "Instructions for updating:\n",
            "Use tf.where in 2.0, which has the same broadcast rule as np.where\n",
            "Loading checkpoint models/124M/model.ckpt\n",
            "INFO:tensorflow:Restoring parameters from models/124M/model.ckpt\n"
          ],
          "name": "stdout"
        },
        {
          "output_type": "stream",
          "text": [
            "100%|██████████| 1/1 [00:00<00:00, 229.15it/s]"
          ],
          "name": "stderr"
        },
        {
          "output_type": "stream",
          "text": [
            "Loading dataset...\n",
            "dataset has 6600 tokens\n",
            "Training...\n"
          ],
          "name": "stdout"
        },
        {
          "output_type": "stream",
          "text": [
            "\n"
          ],
          "name": "stderr"
        },
        {
          "output_type": "stream",
          "text": [
            "[10 | 1128.85] loss=3.50 avg=3.50\n",
            "[20 | 2285.88] loss=2.48 avg=2.99\n",
            "[30 | 3424.93] loss=1.27 avg=2.41\n",
            "[40 | 4564.48] loss=0.30 avg=1.87\n",
            "[50 | 5705.50] loss=0.11 avg=1.51\n",
            "[60 | 6857.50] loss=0.03 avg=1.26\n",
            "[70 | 8022.37] loss=0.03 avg=1.08\n",
            "[80 | 9167.50] loss=0.02 avg=0.94\n",
            "[90 | 10304.27] loss=0.02 avg=0.84\n",
            "[100 | 11431.72] loss=0.02 avg=0.75\n",
            "[110 | 12559.02] loss=0.02 avg=0.68\n",
            "[120 | 13684.80] loss=0.02 avg=0.62\n",
            "[130 | 14831.30] loss=0.02 avg=0.57\n",
            "[140 | 15971.33] loss=0.02 avg=0.53\n",
            "[150 | 17099.46] loss=0.01 avg=0.49\n"
          ],
          "name": "stdout"
        }
      ]
    },
    {
      "cell_type": "code",
      "metadata": {
        "id": "oN6H4p2jQz6y"
      },
      "source": [
        "gpt2.copy_checkpoint_to_gdrive(run_name='run1')"
      ],
      "execution_count": null,
      "outputs": []
    },
    {
      "cell_type": "code",
      "metadata": {
        "id": "GUEnppeyRPHW"
      },
      "source": [
        "gpt2.copy_checkpoint_from_gdrive(run_name='run1')"
      ],
      "execution_count": null,
      "outputs": []
    },
    {
      "cell_type": "code",
      "metadata": {
        "id": "ieGI2de6RS6g"
      },
      "source": [
        "sess = gpt2.start_tf_sess()\n",
        "gpt2.load_gpt2(sess, run_name='run1')"
      ],
      "execution_count": null,
      "outputs": []
    },
    {
      "cell_type": "code",
      "metadata": {
        "id": "VVt1J4NdRU8b"
      },
      "source": [
        "gpt2.generate(sess, run_name='run1')"
      ],
      "execution_count": null,
      "outputs": []
    },
    {
      "cell_type": "code",
      "metadata": {
        "id": "vj9SA2OYRVdU"
      },
      "source": [
        "gpt2.generate(sess,\n",
        "              length=300,\n",
        "              temperature=0.5,\n",
        "              prefix=\"The secret to live life:\",\n",
        "              nsamples=300,\n",
        "              batch_size=10\n",
        "              )"
      ],
      "execution_count": null,
      "outputs": []
    }
  ]
}